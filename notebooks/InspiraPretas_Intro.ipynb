{
  "nbformat": 4,
  "nbformat_minor": 0,
  "metadata": {
    "colab": {
      "provenance": [],
      "toc_visible": true,
      "collapsed_sections": [
        "Z4FS84gCPLTZ",
        "tctHAYUKPQpm"
      ]
    },
    "kernelspec": {
      "name": "python3",
      "display_name": "Python 3"
    },
    "language_info": {
      "name": "python"
    }
  },
  "cells": [
    {
      "cell_type": "markdown",
      "source": [
        "<img src=\"https://github.com/soterolab/aprendizagem-maquina/blob/04a42a2aa9362b26e896a31589a3cfef03013532/images/Capa%20de%20Forms.png?raw=true\">"
      ],
      "metadata": {
        "id": "9awuohJaEvGm"
      }
    },
    {
      "cell_type": "markdown",
      "source": [
        "# 1. Quais são as Habilidades?\n",
        "\n",
        "> ### Qual é o seu interesse com essa área?"
      ],
      "metadata": {
        "id": "Z4FS84gCPLTZ"
      }
    },
    {
      "cell_type": "markdown",
      "source": [
        "### Leitura & Programação\n",
        "### Matemática\n",
        "### Inglês\n",
        "### Repertório\n",
        "### Capacidade Analítica\n",
        "\n",
        "> ### Não esqueça: Entendimento da sua realidade enquanto potência e não como limitação"
      ],
      "metadata": {
        "id": "BlHrAA7YPWP9"
      }
    },
    {
      "cell_type": "markdown",
      "source": [
        ">  ### `porque mais importante do que usar é saber o que é se está usando`\n",
        "\n",
        "\n"
      ],
      "metadata": {
        "id": "KoZu4R71upkz"
      }
    },
    {
      "cell_type": "markdown",
      "source": [
        "\n",
        "<img src=\"https://s2-g1.glbimg.com/oLbDbJ0qzrqoib5xOiSxmrFxHe8=/0x0:6000x4000/984x0/smart/filters:strip_icc()/i.s3.glbimg.com/v1/AUTH_59edd422c0c84a879bd37670ae4f538a/internal_photos/bs/2024/A/0/M3nrYfRLKTpJDDEgOyMw/2024-07-19t111221z-1688364827-rc2ay8aivsmt-rtrmadp-3-cyber-outages.jpg\">\n",
        "\n",
        "[Matéri do G1](https://g1.globo.com/mundo/noticia/2024/07/19/crowdstrike-falcon-microsoft-apagao-mundo.ghtml): Tela azul da morte — Foto: REUTERS/Bing Guan"
      ],
      "metadata": {
        "id": "xuNC3tgcvDD9"
      }
    },
    {
      "cell_type": "markdown",
      "source": [
        "# 2. Para pra acertar: O que é Inteligência Artificial?\n",
        "\n",
        "> O que é inteligência?"
      ],
      "metadata": {
        "id": "tctHAYUKPQpm"
      }
    },
    {
      "cell_type": "markdown",
      "source": [
        "> Inteligência artificial (IA) é um campo que busca desenvolver sistemas capazes de realizar tarefas que normalmente requerem inteligência humana. Isso envolve disciplinas como ciência da computação, matemática, estatística, psicologia cognitiva e neurociência.\n",
        "> [Artigo: Inteligência Artificial, Fundamentos, Conceitos, Aplicações E Tendências](https://atenaeditora.com.br/catalogo/post/inteligencia-artificial-fundamentos-conceitos-aplicacoes-e-tendencias-2)\n",
        "\n",
        "Aplicações:\n",
        "- Assistência Virtual - Chatbots, assistentes virtuais e agentes de atendimento\n",
        "automatizados\n",
        "- Reconhecimento de Imagens e Vídeos\n",
        "- Análise de Dados - Reconhecimento de padrões\n",
        "- Automação\n",
        "- Robótica\n",
        "\n",
        "Conceitos - Técnicas:\n",
        "- Aprendizagem de máquina\n",
        "- Redes neurais artificiais\n",
        "- Processamento de linguagem natural\n",
        "- Visão computacional\n"
      ],
      "metadata": {
        "id": "mN_6kkFGSlAU"
      }
    },
    {
      "cell_type": "code",
      "source": [
        "soma_notas = 2 + 2 + 10\n",
        "qtd_notas = 3\n",
        "media = soma_notas / qtd_notas\n",
        "print(media)"
      ],
      "metadata": {
        "colab": {
          "base_uri": "https://localhost:8080/"
        },
        "id": "XUm6sCdfxfhg",
        "outputId": "c0f42d2a-0173-437b-f129-a3887e004811"
      },
      "execution_count": 3,
      "outputs": [
        {
          "output_type": "stream",
          "name": "stdout",
          "text": [
            "4.666666666666667\n"
          ]
        }
      ]
    },
    {
      "cell_type": "code",
      "source": [
        "def calcula_media(notas=[]):\n",
        "\n",
        "  if not notas:\n",
        "    return 0\n",
        "\n",
        "  qtd_notas = len(notas)\n",
        "  total = sum(notas)\n",
        "  media = total / qtd_notas\n",
        "\n",
        "  return media"
      ],
      "metadata": {
        "id": "CY7iZ1bdPcEQ"
      },
      "execution_count": 4,
      "outputs": []
    },
    {
      "cell_type": "code",
      "source": [
        "calcula_media([2,2,10])"
      ],
      "metadata": {
        "colab": {
          "base_uri": "https://localhost:8080/"
        },
        "id": "sh6kBH-8SfQ_",
        "outputId": "a7ee6b25-8984-420f-ff92-9a36840ec57b"
      },
      "execution_count": 5,
      "outputs": [
        {
          "output_type": "execute_result",
          "data": {
            "text/plain": [
              "4.666666666666667"
            ]
          },
          "metadata": {},
          "execution_count": 5
        }
      ]
    },
    {
      "cell_type": "markdown",
      "source": [
        "## Aprendizagem de máquina"
      ],
      "metadata": {
        "id": "OH4ArBLkbuaq"
      }
    },
    {
      "cell_type": "markdown",
      "source": [
        "[A Essência do Aprendizado de Máquina | Blog do Nei](https://neigrando.com/2022/05/04/a-essencia-do-aprendizado-de-maquina/)\n",
        "\n",
        "<img src=\"https://github.com/soterolab/aprendizagem-maquina/blob/main/images/paradigma.png?raw=true\">\n",
        "\n",
        "---\n",
        "\n",
        "<img src=\"https://neigrando.com/wp-content/uploads/2022/05/principais-tipos-de-aprendizado-de-maquina.png\">"
      ],
      "metadata": {
        "id": "uhwah5vzgFaP"
      }
    },
    {
      "cell_type": "markdown",
      "source": [
        "# 3. Adinkra Aya - Chamada para a ação!\n",
        "\n",
        "> ### *Aya é o adinkra símbolo da resistência, superação, independência e engenhosidade*"
      ],
      "metadata": {
        "id": "aURvhi-zQcEO"
      }
    },
    {
      "cell_type": "markdown",
      "source": [
        "\n",
        "## Chatbots\n",
        "\n",
        "### Natural Language Toolkit - Caixa de Ferramentas de Linguagem Natural\n",
        "\n",
        "Links de referência:\n",
        "- [Introdução ao Machine Learning - De Alunos para Alunos](https://dataat.github.io/introducao-ao-machine-learning/index.html)\n",
        "- [Chat do NTLK](https://www.nltk.org/api/nltk.chat.html)\n",
        "- [NTLK no GitHub](https://github.com/nltk/nltk/tree/develop)\n",
        "- [NTLK Book](https://www.nltk.org/book/)\n",
        "- [A Essência do Aprendizado de Máquina | Nei Grando](https://neigrando.com/2022/05/04/a-essencia-do-aprendizado-de-maquina/)\n",
        "\n",
        "O que é Processamento de Linguagem Natural?\n"
      ],
      "metadata": {
        "id": "ap2mfqriK6lg"
      }
    },
    {
      "cell_type": "code",
      "source": [
        "from nltk.chat.eliza import eliza_chat\n",
        "from nltk.chat.iesha import iesha_chat\n",
        "from nltk.chat.rude import rude_chat\n",
        "from nltk.chat.suntsu import suntsu_chat\n",
        "from nltk.chat.util import Chat\n",
        "from nltk.chat.zen import zen_chat\n",
        "\n",
        "bots = [\n",
        "    (eliza_chat, \"Eliza (Psicóloga)\"),\n",
        "    (iesha_chat, \"Iesha (Adolescente viciado em anime)\"),\n",
        "    (rude_chat, \"Rude (Bot abusivo)\"),\n",
        "    (suntsu_chat, \"Suntsu (Provérbios chineses)\"),\n",
        "    (zen_chat, \"Zen (Pílulas de sabedoria)\"),\n",
        "]\n",
        "\n",
        "\n",
        "def chatbots():\n",
        "    print(\"Com qual chatbot você gostaria de falar?\")\n",
        "    botcount = len(bots)\n",
        "    for i in range(botcount):\n",
        "        print(\"  %d: %s\" % (i + 1, bots[i][1]))\n",
        "    while True:\n",
        "        choice = input(f\"\\nDigite um numero dentro do intervalo 1-{botcount}: \").strip()\n",
        "        if choice.isdigit() and (int(choice) - 1) in range(botcount):\n",
        "            break\n",
        "        else:\n",
        "            print(\"   Error: número inexistente\")\n",
        "\n",
        "    chatbot = bots[int(choice) - 1][0]\n",
        "    chatbot()"
      ],
      "metadata": {
        "id": "icvNRH4YF3vY"
      },
      "execution_count": 9,
      "outputs": []
    },
    {
      "cell_type": "code",
      "source": [
        "chatbots()"
      ],
      "metadata": {
        "colab": {
          "base_uri": "https://localhost:8080/"
        },
        "id": "6mV2ZlIrcDS0",
        "outputId": "c5f2bc64-126d-4a43-c543-14107839cbf8"
      },
      "execution_count": 10,
      "outputs": [
        {
          "output_type": "stream",
          "name": "stdout",
          "text": [
            "Com qual chatbot você gostaria de falar?\n",
            "  1: Eliza (Psicóloga)\n",
            "  2: Iesha (Adolescente viciado em anime)\n",
            "  3: Rude (Bot abusivo)\n",
            "  4: Suntsu (Provérbios chineses)\n",
            "  5: Zen (Pílulas de sabedoria)\n",
            "\n",
            "Digite um numero dentro do intervalo 1-5: 5\n",
            "***************************************************************************\n",
            "                                Zen Chatbot!                               \n",
            "***************************************************************************\n",
            "         \"Look beyond mere words and letters - look into your mind\"        \n",
            "* Talk your way to truth with Zen Chatbot.\n",
            "* Type 'quit' when you have had enough.\n",
            "***************************************************************************\n",
            "Welcome, my child.\n",
            ">i am sad\n",
            "Try to consider others, not just yourself.\n",
            ">we do not love me\n",
            "Free love!\n",
            ">they do not like me\n",
            "Form is emptiness, and emptiness is form.\n",
            ">what is the answer?\n",
            "Whatis the answer should not concern you.\n",
            ">and what should?\n",
            "You seek the truth. Does the truth seek you?\n",
            ">are you crazy?\n",
            "Maybecrazy, maybe notcrazy.\n",
            ">quit\n",
            "When you're enlightened, every word is wisdom.\n"
          ]
        }
      ]
    },
    {
      "cell_type": "markdown",
      "source": [
        "## Pesquise, Pergunte, Leia e Pratique!\n",
        "\n",
        "- [Lógica de Programação com Python - SoteroLab](https://github.com/soterolab/curso-python)  `*iniciante*`\n",
        "- [Comunidades Python - PyLadies, AfroPython, Python Nordeste](https://python.org.br/pyladies/) `*iniciante*`\n",
        "- [Catálogo de Teses & Dissertações - CAPES](https://catalogodeteses.capes.gov.br/catalogo-teses/#!/) `*proximos passos*`\n",
        "- [PGCOMP - Teses e Dissertações](https://sigaa.ufba.br/sigaa/public/programa/defesas.jsf?lc=pt_BR&id=1820) `*proximos passos*`\n",
        "- [Repositório Institucional da Universidade Federal da Bahia](https://repositorio.ufba.br/simple-search) `*proximos passos*`\n",
        "- [Biblioteca Digital de Teses e Dissertações da UFCG](http://dspace.sti.ufcg.edu.br:8080/jspui/handle/riufcg/15) `*proximos passos*`"
      ],
      "metadata": {
        "id": "upbZ9rWLAPwE"
      }
    }
  ]
}